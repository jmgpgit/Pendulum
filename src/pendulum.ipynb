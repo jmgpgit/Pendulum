{
 "cells": [
  {
   "cell_type": "code",
   "execution_count": 135,
   "metadata": {},
   "outputs": [],
   "source": [
    "import numpy as np\n",
    "import matplotlib.pyplot as plt\n",
    "import seaborn as sns\n",
    "import matplotlib.animation as animation\n",
    "from functools import partial\n",
    "from collections import deque\n",
    "%matplotlib inline\n",
    "from scipy.integrate import solve_ivp\n",
    "import sympy as sym\n",
    "sym.init_printing()\n",
    "import tensorflow as tf"
   ]
  },
  {
   "attachments": {},
   "cell_type": "markdown",
   "metadata": {},
   "source": [
    "### Single Pendulum"
   ]
  },
  {
   "cell_type": "code",
   "execution_count": 50,
   "metadata": {},
   "outputs": [],
   "source": [
    "# Note: m = 1, l = 1, g = 9.81 for all pendulums\n",
    "\n",
    "class Small_Pendulum:\n",
    "    g=9.81 # gravitational acceleration\n",
    "    def __init__(self, initial_theta=0, initial_omega=0, time = 10, dt = 0.01):\n",
    "\n",
    "        # small pendulum equation: theta'' + g/l * theta = 0\n",
    "        \n",
    "        sol = solve_ivp(lambda t, y : [y[1], -Small_Pendulum.g * y[0]], \n",
    "                        [0, time], \n",
    "                        [initial_theta, initial_omega], \n",
    "                        t_eval=np.arange(0, time, dt))\n",
    "        \n",
    "        self.thetas = sol.y[0]\n",
    "        \n",
    "        self.x = np.sin(self.thetas) # x position\n",
    "        self.y = -np.cos(self.thetas) # y position\n",
    "\n",
    "\n",
    "class Pendulum:\n",
    "    g = 9.81 # gravitational acceleration\n",
    "    def __init__(self, initial_theta=0, initial_omega=0, time = 10, dt = 0.01):\n",
    "\n",
    "        # pendulum equation: theta'' + g/l * sin(theta) = 0\n",
    "        sol = solve_ivp(lambda t, y : [y[1], -Pendulum.g * np.sin(y[0])], \n",
    "                        [0, time], \n",
    "                        [initial_theta, initial_omega], \n",
    "                        t_eval=np.arange(0, time, dt))\n",
    "\n",
    "        self.thetas = sol.y[0]\n",
    "\n",
    "        self.x = np.sin(self.thetas) # x position\n",
    "        self.y = -np.cos(self.thetas) # y position\n"
   ]
  },
  {
   "cell_type": "code",
   "execution_count": 51,
   "metadata": {},
   "outputs": [],
   "source": [
    "initial_theta = np.pi+0.3\n",
    "pendulum = Pendulum(initial_theta=initial_theta, time = 20)\n",
    "small_pendulum = Small_Pendulum(initial_theta=initial_theta, time = 20)"
   ]
  },
  {
   "cell_type": "code",
   "execution_count": 99,
   "metadata": {},
   "outputs": [
    {
     "data": {
      "image/png": "[encoded data removed]",
      "text/plain": [
       "<Figure size 720x720 with 1 Axes>"
      ]
     },
     "metadata": {
      "needs_background": "light"
     },
     "output_type": "display_data"
    }
   ],
   "source": [
    "fig, axes = plt.subplots(nrows=1, ncols=1, figsize=(10, 10))\n",
    " \n",
    "\n",
    "axes.set_ylim(-2,2)\n",
    "axes.set_xlim(-2,2)\n",
    "\n",
    "line1, = axes.plot([], [], lw = 2, color = 'red', marker = 'o', markersize = 10)\n",
    "line2, = axes.plot([], [], lw = 2, color = 'blue', marker = 'o', markersize = 10)\n",
    "\n",
    "axes.legend([line1, line2], ['Small Pendulum', 'Pendulum'])\n",
    "\n",
    "def init():\n",
    "    line1.set_data([], [])\n",
    "    line2.set_data([], [])\n",
    "    return line1, line2,\n",
    "\n",
    "\n",
    "# animation function\n",
    "def animate(i):\n",
    "    x0, y0 = small_pendulum.x[i], small_pendulum.y[i]\n",
    "    x1, y1 = pendulum.x[i], pendulum.y[i]\n",
    "    # x, y values to be plotted\n",
    "    line1.set_data(x0, y0)\n",
    "    line2.set_data(x1, y1)\n",
    "    return line1, line2,\n",
    " \n",
    "# calling the animation function    \n",
    "anim = animation.FuncAnimation(fig, animate,\n",
    "                            init_func = init,\n",
    "                            frames = 400,\n",
    "                            interval = 20,\n",
    "                            blit = True)\n",
    "anim.save('pend.mp4', writer = 'ffmpeg', fps = 30)"
   ]
  },
  {
   "attachments": {},
   "cell_type": "markdown",
   "metadata": {},
   "source": [
    "### Double Pendulum"
   ]
  },
  {
   "attachments": {},
   "cell_type": "markdown",
   "metadata": {},
   "source": [
    "System Set-up"
   ]
  },
  {
   "cell_type": "code",
   "execution_count": 123,
   "metadata": {},
   "outputs": [],
   "source": [
    "g, t = sym.symbols('g t')\n",
    "# We take m = 1, l = 1 for both pendulums for simplicity"
   ]
  },
  {
   "cell_type": "code",
   "execution_count": 124,
   "metadata": {},
   "outputs": [],
   "source": [
    "theta1 = sym.Function('theta1')(t)\n",
    "theta2 = sym.Function('theta2')(t)\n",
    "dtheta1_dt = sym.diff(theta1, t)\n",
    "dtheta2_dt = sym.diff(theta2, t)\n",
    "ddtheta1_dtdt = sym.diff(dtheta1_dt, t)\n",
    "ddtheta2_dtdt = sym.diff(dtheta2_dt, t)"
   ]
  },
  {
   "cell_type": "code",
   "execution_count": 125,
   "metadata": {},
   "outputs": [],
   "source": [
    "x1 = sym.sin(theta1)\n",
    "y1 = -sym.cos(theta1)\n",
    "x2 = x1 + sym.sin(theta2)\n",
    "y2 = y1 - sym.cos(theta2)"
   ]
  },
  {
   "attachments": {},
   "cell_type": "markdown",
   "metadata": {},
   "source": [
    "Lagrangian"
   ]
  },
  {
   "cell_type": "code",
   "execution_count": 126,
   "metadata": {},
   "outputs": [],
   "source": [
    "T = sym.Rational(1,2) * (sym.diff(x1, t)**2 + sym.diff(y1, t)**2 + sym.diff(x2, t)**2 + sym.diff(y2, t)**2)\n",
    "U = g * (y1 + y2)\n",
    "L = (T - U).simplify()"
   ]
  },
  {
   "attachments": {},
   "cell_type": "markdown",
   "metadata": {},
   "source": [
    "Euler-Lagrange Equations"
   ]
  },
  {
   "cell_type": "code",
   "execution_count": 127,
   "metadata": {},
   "outputs": [],
   "source": [
    "del_L_t1 = sym.diff(L, theta1)\n",
    "del_L_t2 = sym.diff(L, theta2)\n",
    "d_del_L_dt1 = sym.diff(sym.diff(L, dtheta1_dt), t).simplify()\n",
    "d_del_L_dt2 = sym.diff(sym.diff(L, dtheta2_dt), t).simplify()"
   ]
  },
  {
   "cell_type": "code",
   "execution_count": 128,
   "metadata": {},
   "outputs": [],
   "source": [
    "L_1 = sym.Eq(del_L_t1, d_del_L_dt1)\n",
    "L_2 = sym.Eq(del_L_t2, d_del_L_dt2)"
   ]
  },
  {
   "attachments": {},
   "cell_type": "markdown",
   "metadata": {},
   "source": [
    "Solve for second derivatives"
   ]
  },
  {
   "cell_type": "code",
   "execution_count": 129,
   "metadata": {},
   "outputs": [],
   "source": [
    "sol = sym.solve([L_1, L_2], [ddtheta1_dtdt, ddtheta2_dtdt])\n",
    "ddtheta1_dtdt = sol[ddtheta1_dtdt]\n",
    "ddtheta2_dtdt = sol[ddtheta2_dtdt]"
   ]
  },
  {
   "attachments": {},
   "cell_type": "markdown",
   "metadata": {},
   "source": [
    "Put in form of a system of first order ODEs:\n",
    "$$ \\underline{\\dot{z}} = f(t,\\underline{z})$$\n",
    "\n",
    "$$ \\underline{z} = [\\theta_1, \\dot{\\theta}_1,\\theta_2, \\dot{\\theta}_2] \\implies \\underline{\\dot{z}} = [\\dot{\\theta}_1, \\ddot{\\theta}_1,\\dot{\\theta}_2, \\ddot{\\theta}_2]$$"
   ]
  },
  {
   "cell_type": "code",
   "execution_count": 130,
   "metadata": {},
   "outputs": [],
   "source": [
    "# Turn the symbolic equations into functions\n",
    "func_dtheta1_dt = sym.lambdify(dtheta1_dt, dtheta1_dt)\n",
    "func_ddtheta1_dtdt = sym.lambdify((theta1, theta2, dtheta1_dt, dtheta2_dt, g), ddtheta1_dtdt)\n",
    "func_dtheta2_dt = sym.lambdify(dtheta2_dt, dtheta2_dt)\n",
    "func_ddtheta2_dtdt = sym.lambdify((theta1, theta2, dtheta1_dt, dtheta2_dt, g), ddtheta2_dtdt)"
   ]
  },
  {
   "cell_type": "code",
   "execution_count": 131,
   "metadata": {},
   "outputs": [],
   "source": [
    "# Define the state vector\n",
    "def dbl_pendulum_state(t, th, g=9.81):\n",
    "    th1, dth1, th2, dth2 = th\n",
    "    return np.array([dth1, func_ddtheta1_dtdt(th1, th2, dth1, dth2, g), dth2,  func_ddtheta2_dtdt(th1, th2, dth1, dth2, g)])"
   ]
  },
  {
   "cell_type": "code",
   "execution_count": 132,
   "metadata": {},
   "outputs": [],
   "source": [
    "# Solve the ODE: Initial condition vector is [theta1, dtheta1, theta2, dtheta2]\n",
    "double_pendulum = solve_ivp(dbl_pendulum_state, \n",
    "                            [0, 30], \n",
    "                            [np.pi+0.3,  2, np.pi+0.2, -1], \n",
    "                            t_eval=np.arange(0, 30, 0.01))"
   ]
  },
  {
   "cell_type": "code",
   "execution_count": 133,
   "metadata": {},
   "outputs": [],
   "source": [
    "# Get the x and y positions of the pendulums\n",
    "th1 = double_pendulum.y[0]\n",
    "dth1 = double_pendulum.y[1]\n",
    "th2 = double_pendulum.y[2]\n",
    "dth2 = double_pendulum.y[3]\n",
    "x1 = np.sin(th1)\n",
    "y1 = -np.cos(th1)\n",
    "x2 = x1 + np.sin(th2)\n",
    "y2 = y1 - np.cos(th2)"
   ]
  },
  {
   "cell_type": "code",
   "execution_count": 134,
   "metadata": {},
   "outputs": [
    {
     "data": {
      "image/png": "[encoded data removed]",
      "text/plain": [
       "<Figure size 720x720 with 1 Axes>"
      ]
     },
     "metadata": {
      "needs_background": "light"
     },
     "output_type": "display_data"
    }
   ],
   "source": [
    "fig, axes = plt.subplots(nrows=1, ncols=1, figsize=(10, 10))\n",
    "axes.set_ylim(-4,4)\n",
    "axes.set_xlim(-4,4)\n",
    "\n",
    "line2, = axes.plot([], [], lw = 2, color = 'blue', marker = 'o', markersize = 10)\n",
    "line1, = axes.plot([], [], lw = 2, color = 'red', marker = 'o', markersize = 10)\n",
    "line0, = axes.plot([0], [0], lw = 2, color = 'black', marker = 'o', markersize = 10)\n",
    "\n",
    "axes.legend([line0, line1, line2], ['Pivot','Inner Bob', 'Outer Bob'])\n",
    "axes.set_axis_off()\n",
    "def init():\n",
    "    line1.set_data([], [])\n",
    "    line2.set_data([], [])\n",
    "    return line1, line2,\n",
    "\n",
    "\n",
    "# animation function\n",
    "def animate(i):\n",
    "    # x, y values to be plotted\n",
    "    line1.set_data([0,x1[i]], [0,y1[i]])\n",
    "    line2.set_data([x1[i], x2[i]], [y1[i], y2[i]])\n",
    "        \n",
    "    return line1, line2,\n",
    " \n",
    "# calling the animation function    \n",
    "anim = animation.FuncAnimation(fig, animate,\n",
    "                            init_func = init,\n",
    "                            frames = 1500,\n",
    "                            interval = 20,\n",
    "                            blit = True)\n",
    "anim.save('pend.mp4', writer = 'ffmpeg', fps = 30)"
   ]
  },
  {
   "cell_type": "code",
   "execution_count": 63,
   "metadata": {},
   "outputs": [],
   "source": [
    "class Pendulum_with_drag:\n",
    "    g = 9.81 # gravitational acceleration\n",
    "    def __init__(self, initial_theta=0, initial_omega=0, time = 10, dt = 0.01, b = 0.1):\n",
    "\n",
    "        # pendulum equation: theta'' + b * theta' + g/l * sin(theta) = 0\n",
    "        sol = solve_ivp(lambda t, y : [y[1], -Pendulum_with_drag.g * np.sin(y[0]) - b * y[1]], \n",
    "                        [0, time], \n",
    "                        [initial_theta, initial_omega], \n",
    "                        t_eval=np.arange(0, time, dt))\n",
    "\n",
    "        self.thetas = sol.y[0]\n",
    "\n",
    "        self.x = np.sin(self.thetas) # x position\n",
    "        self.y = -np.cos(self.thetas) # y position"
   ]
  },
  {
   "cell_type": "code",
   "execution_count": 64,
   "metadata": {},
   "outputs": [],
   "source": [
    "pd = Pendulum_with_drag(initial_theta = np.pi/2, initial_omega = 0, time = 10, dt = 0.01, b = 0.1)"
   ]
  },
  {
   "cell_type": "code",
   "execution_count": 66,
   "metadata": {},
   "outputs": [
    {
     "data": {
      "image/png": "[encoded data removed]",
      "text/plain": [
       "<Figure size 720x720 with 1 Axes>"
      ]
     },
     "metadata": {
      "needs_background": "light"
     },
     "output_type": "display_data"
    }
   ],
   "source": [
    "fig, axes = plt.subplots(nrows=1, ncols=1, figsize=(10, 10))\n",
    " \n",
    "\n",
    "axes.set_ylim(-2,2)\n",
    "axes.set_xlim(-2,2)\n",
    "\n",
    "\n",
    "line1, = axes.plot([], [], lw = 2, color = 'red', marker = 'o', markersize = 10)\n",
    "line0, = axes.plot([0], [0], lw = 2, color = 'black', marker = 'o', markersize = 10)\n",
    "\n",
    "axes.legend([line0,line1], ['Pivot', 'Pendulum'])\n",
    "\n",
    "def init():\n",
    "    line1.set_data([], [])\n",
    "    return line1, \n",
    "\n",
    "\n",
    "# animation function\n",
    "def animate(i):\n",
    "    x0, y0 = pd.x[i], pd.y[i]\n",
    "    # x, y values to be plotted\n",
    "    line1.set_data(x0, y0)\n",
    "    return line1,\n",
    " \n",
    "# calling the animation function    \n",
    "anim = animation.FuncAnimation(fig, animate,\n",
    "                            init_func = init,\n",
    "                            frames = 400,\n",
    "                            interval = 20,\n",
    "                            blit = True)\n",
    "anim.save('pend.mp4', writer = 'ffmpeg', fps = 30)"
   ]
  },
  {
   "cell_type": "code",
   "execution_count": 111,
   "metadata": {},
   "outputs": [],
   "source": [
    "class Perturbable_Pendulum:\n",
    "    g = 9.81 # gravitational acceleration\n",
    "    pw = 10000 # pulse width parameter (pm large = small width)\n",
    "    def __init__(self, initial_theta=0, initial_omega=0, max_time = 10, dt = 0.01, perturbation_rate = 100):\n",
    "        \n",
    "        # pendulum equation: theta'' + g/l * sin(theta) = perturbation\n",
    "        # perturbation is a function of time\n",
    "        # we will use exp(-t**2) as a Gaussian pulse\n",
    "        self.time = 0 # initial time\n",
    "        self.dt = dt # time step\n",
    "        self.max_time = max_time # maximum time to run simulation for\n",
    "        \n",
    "        self.perturbation_rate = perturbation_rate # how many time intervals between pulses. 1 = every time step\n",
    "        \n",
    "        self.initial_theta = initial_theta # initial angle\n",
    "        self.initial_omega = initial_omega # initial angular velocity\n",
    "\n",
    "        self.thetas, _ = self.solve_pulses(magnitude_vector = [0 if i % 2 == 0 else 0 for i in range(1000)])\n",
    "        self.xs = np.sin(self.thetas)\n",
    "        self.ys = -np.cos(self.thetas)\n",
    "\n",
    "        \n",
    "        \n",
    "        \n",
    "    def nth_pulse(self, t, n, magnitude):\n",
    "        # the nth pulse equation\n",
    "        # the time at which the nth pulse happens\n",
    "        # occurs midway through time step * perturbation_rate\n",
    "        nth_pulse_time = (2 * n + 1) * self.perturbation_rate * self.dt / 2\n",
    "        return magnitude * np.exp(-Perturbable_Pendulum.pw * (t - nth_pulse_time)**2)\n",
    "    \n",
    "    def nth_state_space(self, t, y, magnitude, n):\n",
    "        return [y[1], -Perturbable_Pendulum.g * np.sin(y[0]) + self.nth_pulse(t, n, magnitude)]\n",
    "    \n",
    "    def solve_nth_pulse(self, magnitude, n, initial_theta, initial_omega):\n",
    "        # solve the nth pulse\n",
    "        start_time = n * self.dt * self.perturbation_rate\n",
    "        end_time = start_time + self.dt * self.perturbation_rate\n",
    "        return solve_ivp(lambda t, y : self.nth_state_space(t, y, magnitude, n), \n",
    "                    [start_time, end_time],\n",
    "                    [initial_theta, initial_omega], \n",
    "                    t_eval=np.arange(start_time, end_time, self.dt))\n",
    "    \n",
    "    def solve_pulses(self, magnitude_vector):\n",
    "\n",
    "        n = 0\n",
    "        theta = self.initial_theta\n",
    "        omega = self.initial_omega\n",
    "        thetas = np.array([theta])\n",
    "        omegas = np.array([omega])\n",
    "        \n",
    "        while self.time < self.max_time:\n",
    "            nth_pulse = self.solve_nth_pulse(magnitude_vector[n], n, theta, omega)\n",
    "            thetas = np.append(np.append(thetas[:-1],(thetas[-1]+nth_pulse.y[0][0])/2), nth_pulse.y[0])\n",
    "            omegas = np.append(np.append(omegas[:-1],(omegas[-1]+nth_pulse.y[1][0])/2), nth_pulse.y[1])\n",
    "            theta = nth_pulse.y[0][-1]\n",
    "            omega = nth_pulse.y[1][-1]\n",
    "            n += 1\n",
    "            self.time += self.dt * self.perturbation_rate\n",
    "            \n",
    "        return thetas, omegas"
   ]
  },
  {
   "cell_type": "code",
   "execution_count": 136,
   "metadata": {},
   "outputs": [],
   "source": [
    "class Perturbable_Pendulum_v2:\n",
    "    g = 9.81 # gravitational acceleration\n",
    "    pw = 10000 # pulse width parameter (pm large = small width)\n",
    "    def __init__(self, initial_theta=0, initial_omega=0, max_time = 10, dt = 0.01, perturbation_rate = 10, magnitude_vector = [0 for i in range(1000)]):\n",
    "        \n",
    "        # pendulum equation: theta'' + g/l * sin(theta) = perturbation\n",
    "        # perturbation is a function of time\n",
    "        # we will use exp(-t**2) as a Gaussian pulse\n",
    "        # perturbation is a sum of pulses of the form beta_i * exp(-pw * (t - t_n)**2)\n",
    "        self.time = 0 # initial time\n",
    "        self.dt = dt # time step\n",
    "        self.max_time = max_time # maximum time to run simulation for\n",
    "        \n",
    "        self.perturbation_rate = perturbation_rate # how many time intervals between pulses. 1 = every time step\n",
    "        \n",
    "        self.initial_theta = initial_theta # initial angle\n",
    "        self.initial_omega = initial_omega # initial angular velocity\n",
    "\n",
    "        self.thetas = self.solve_pulses(magnitude_vector).y[0]\n",
    "        self.xs = np.sin(self.thetas)\n",
    "        self.ys = -np.cos(self.thetas)\n",
    "\n",
    "        \n",
    "        \n",
    "        \n",
    "    def nth_pulse(self, t, n, magnitude):\n",
    "        # the nth pulse equation\n",
    "        # the time at which the nth pulse happens\n",
    "        # occurs midway through time step * perturbation_rate\n",
    "        nth_pulse_time = (2 * n + 1) * self.perturbation_rate * self.dt / 2\n",
    "        return magnitude * np.exp(-Perturbable_Pendulum_v2.pw * (t - nth_pulse_time)**2)\n",
    "    \n",
    "    def pulse_sum(self, t, magnitude_vector):\n",
    "        # the sum of all pulses up to time t\n",
    "        return sum([self.nth_pulse(t, n, magnitude_vector[n]) for n in range(len(magnitude_vector))])\n",
    "    \n",
    "    def state_space(self, t, y, magnitude_vector):\n",
    "        return [y[1], -Perturbable_Pendulum_v2.g * np.sin(y[0]) + self.pulse_sum(t, magnitude_vector)]\n",
    "    \n",
    "    def solve_pulses(self, magnitude_vector):\n",
    "        # solve the nth pulse\n",
    "        return solve_ivp(lambda t, y : self.state_space(t, y, magnitude_vector), \n",
    "                    [0, self.max_time],\n",
    "                    [self.initial_theta, self.initial_omega], \n",
    "                    t_eval=np.arange(0, self.max_time, self.dt))\n",
    "    \n",
    "    def error(self): \n",
    "        # error function: we want to have theta = pi\n",
    "        # equivalently, we want cos(theta) + 1 = 0\n",
    "        return np.sum(np.abs(np.cos(self.thetas) + 1)) / len(self.thetas)\n"
   ]
  },
  {
   "cell_type": "code",
   "execution_count": null,
   "metadata": {},
   "outputs": [],
   "source": [
    "# keep pendulum upright\n"
   ]
  },
  {
   "cell_type": "code",
   "execution_count": 137,
   "metadata": {},
   "outputs": [],
   "source": [
    "pp = Perturbable_Pendulum_v2(initial_theta = np.pi/3, initial_omega = 0, max_time = 10, dt = 0.01, perturbation_rate = 50)"
   ]
  },
  {
   "cell_type": "code",
   "execution_count": 138,
   "metadata": {},
   "outputs": [
    {
     "data": {
      "image/png": "[encoded data removed]",
      "text/plain": [
       "<Figure size 720x720 with 1 Axes>"
      ]
     },
     "metadata": {
      "needs_background": "light"
     },
     "output_type": "display_data"
    }
   ],
   "source": [
    "fig, axes = plt.subplots(nrows=1, ncols=1, figsize=(10, 10))\n",
    " \n",
    "\n",
    "axes.set_ylim(-2,2)\n",
    "axes.set_xlim(-2,2)\n",
    "\n",
    "\n",
    "line1, = axes.plot([], [], lw = 2, color = 'red', marker = 'o', markersize = 10)\n",
    "line0, = axes.plot([0], [0], lw = 2, color = 'black', marker = 'o', markersize = 10)\n",
    "\n",
    "axes.legend([line0,line1], ['Pivot', 'Pendulum'])\n",
    "\n",
    "def init():\n",
    "    line1.set_data([], [])\n",
    "    return line1, \n",
    "\n",
    "\n",
    "# animation function\n",
    "def animate(i):\n",
    "    x0, y0 = pp.xs[i], pp.ys[i]\n",
    "    # x, y values to be plotted\n",
    "    line1.set_data(x0, y0)\n",
    "    return line1,\n",
    " \n",
    "# calling the animation function    \n",
    "anim = animation.FuncAnimation(fig, animate,\n",
    "                            init_func = init,\n",
    "                            frames = 800,\n",
    "                            interval = 20,\n",
    "                            blit = True)\n",
    "anim.save('pend.mp4', writer = 'ffmpeg', fps = 30)"
   ]
  },
  {
   "cell_type": "code",
   "execution_count": null,
   "metadata": {},
   "outputs": [],
   "source": []
  }
 ],
 "metadata": {
  "kernelspec": {
   "display_name": "base",
   "language": "python",
   "name": "python3"
  },
  "language_info": {
   "codemirror_mode": {
    "name": "ipython",
    "version": 3
   },
   "file_extension": ".py",
   "mimetype": "text/x-python",
   "name": "python",
   "nbconvert_exporter": "python",
   "pygments_lexer": "ipython3",
   "version": "3.8.8"
  },
  "orig_nbformat": 4
 },
 "nbformat": 4,
 "nbformat_minor": 2
}
