{
 "cells": [
  {
   "cell_type": "code",
   "execution_count": 1,
   "metadata": {},
   "outputs": [],
   "source": [
    "import numpy as np\n",
    "import matplotlib.pyplot as plt\n",
    "import seaborn as sns\n",
    "import matplotlib.animation as animation\n",
    "from functools import partial\n",
    "from collections import deque\n",
    "%matplotlib inline\n",
    "from scipy.integrate import solve_ivp\n",
    "import sympy as sym\n",
    "sym.init_printing()"
   ]
  },
  {
   "cell_type": "code",
   "execution_count": 95,
   "metadata": {},
   "outputs": [],
   "source": [
    "class Small_Pendulum:\n",
    "    def __init__(self, m=1, l=1, g=9.81, initial_theta=0, initial_omega=0, time = 10, dt = 0.01):\n",
    "        self.m = m # mass of the pendulum\n",
    "        self.l = l # length of the pendulum\n",
    "        self.g = g # gravitational acceleration\n",
    "\n",
    "        \n",
    "        # small pendulum equation: theta'' + g/l * theta = 0\n",
    "        sol = solve_ivp(lambda t, y : [y[1], -g/l * y[0]], [0, time], [initial_theta, initial_omega], t_eval=np.arange(0, time, dt))\n",
    "        \n",
    "        self.t = sol.t\n",
    "        self.thetas = sol.y[0]\n",
    "        self.omegas = sol.y[1]\n",
    "        self.alphas = -g/l * sol.y[0]\n",
    "        \n",
    "        self.x = self.l*np.sin(self.thetas) # x position\n",
    "        self.y = -self.l*np.cos(self.thetas) # y position\n",
    "\n",
    "\n",
    "class Pendulum:\n",
    "    def __init__(self, m=1, l=1, g=9.81, initial_theta=0, initial_omega=0, time = 10, dt = 0.01):\n",
    "        self.m = m # mass of the pendulum\n",
    "        self.l = l # length of the pendulum\n",
    "        self.g = g # gravitational acceleration\n",
    "\n",
    "        \n",
    "        # pendulum equation: theta'' + g/l * sin(theta) = 0\n",
    "        sol = solve_ivp(lambda t, y : [y[1], -g/l * np.sin(y[0])], [0, time], [initial_theta, initial_omega], t_eval=np.arange(0, time, dt))\n",
    "        \n",
    "        self.t = sol.t\n",
    "        self.thetas = sol.y[0]\n",
    "        self.omegas = sol.y[1]\n",
    "        self.alphas = -g/l * sol.y[0]\n",
    "        \n",
    "        self.x = self.l*np.sin(self.thetas) # x position\n",
    "        self.y = -self.l*np.cos(self.thetas) # y position\n",
    "        \n"
   ]
  },
  {
   "cell_type": "code",
   "execution_count": 96,
   "metadata": {},
   "outputs": [],
   "source": [
    "initial_theta = np.pi+0.3\n",
    "pendulum = Pendulum(initial_theta=initial_theta, time = 20)\n",
    "small_pendulum = Small_Pendulum(initial_theta=initial_theta, time = 20)"
   ]
  },
  {
   "cell_type": "code",
   "execution_count": 99,
   "metadata": {},
   "outputs": [
    {
     "data": {
      "image/png": "[encoded data removed]",
      "text/plain": [
       "<Figure size 720x720 with 1 Axes>"
      ]
     },
     "metadata": {
      "needs_background": "light"
     },
     "output_type": "display_data"
    }
   ],
   "source": [
    "fig, axes = plt.subplots(nrows=1, ncols=1, figsize=(10, 10))\n",
    " \n",
    "\n",
    "axes.set_ylim(-2,2)\n",
    "axes.set_xlim(-2,2)\n",
    "\n",
    "line1, = axes.plot([], [], lw = 2, color = 'red', marker = 'o', markersize = 10)\n",
    "line2, = axes.plot([], [], lw = 2, color = 'blue', marker = 'o', markersize = 10)\n",
    "\n",
    "axes.legend([line1, line2], ['Small Pendulum', 'Pendulum'])\n",
    "\n",
    "def init():\n",
    "    line1.set_data([], [])\n",
    "    line2.set_data([], [])\n",
    "    return line1, line2,\n",
    "\n",
    "\n",
    "# animation function\n",
    "def animate(i):\n",
    "    x0, y0 = small_pendulum.x[i], small_pendulum.y[i]\n",
    "    x1, y1 = pendulum.x[i], pendulum.y[i]\n",
    "    # x, y values to be plotted\n",
    "    line1.set_data(x0, y0)\n",
    "    line2.set_data(x1, y1)\n",
    "    return line1, line2,\n",
    " \n",
    "# calling the animation function    \n",
    "anim = animation.FuncAnimation(fig, animate,\n",
    "                            init_func = init,\n",
    "                            frames = 400,\n",
    "                            interval = 20,\n",
    "                            blit = True)\n",
    "anim.save('pend.mp4', writer = 'ffmpeg', fps = 30)"
   ]
  },
  {
   "attachments": {},
   "cell_type": "markdown",
   "metadata": {},
   "source": [
    "### Double Pendulum"
   ]
  },
  {
   "attachments": {},
   "cell_type": "markdown",
   "metadata": {},
   "source": [
    "System Set-up"
   ]
  },
  {
   "cell_type": "code",
   "execution_count": 22,
   "metadata": {},
   "outputs": [],
   "source": [
    "g, t = sym.symbols('g t')\n",
    "# We take m = 1, l = 1 for both pendulums for simplicity"
   ]
  },
  {
   "cell_type": "code",
   "execution_count": 23,
   "metadata": {},
   "outputs": [],
   "source": [
    "theta1 = sym.Function('theta1')(t)\n",
    "theta2 = sym.Function('theta2')(t)\n",
    "dtheta1_dt = sym.diff(theta1, t)\n",
    "dtheta2_dt = sym.diff(theta2, t)\n",
    "ddtheta1_dtdt = sym.diff(dtheta1_dt, t)\n",
    "ddtheta2_dtdt = sym.diff(dtheta2_dt, t)"
   ]
  },
  {
   "cell_type": "code",
   "execution_count": 24,
   "metadata": {},
   "outputs": [],
   "source": [
    "x1 = sym.sin(theta1)\n",
    "y1 = -sym.cos(theta1)\n",
    "x2 = x1 + sym.sin(theta2)\n",
    "y2 = y1 - sym.cos(theta2)"
   ]
  },
  {
   "attachments": {},
   "cell_type": "markdown",
   "metadata": {},
   "source": [
    "Lagrangian"
   ]
  },
  {
   "cell_type": "code",
   "execution_count": 25,
   "metadata": {},
   "outputs": [],
   "source": [
    "T = sym.Rational(1,2) * (sym.diff(x1, t)**2 + sym.diff(y1, t)**2 + sym.diff(x2, t)**2 + sym.diff(y2, t)**2)\n",
    "U = g * (y1 + y2)\n",
    "L = (T - U).simplify()"
   ]
  },
  {
   "attachments": {},
   "cell_type": "markdown",
   "metadata": {},
   "source": [
    "Euler-Lagrange Equations"
   ]
  },
  {
   "cell_type": "code",
   "execution_count": 26,
   "metadata": {},
   "outputs": [],
   "source": [
    "del_L_t1 = sym.diff(L, theta1)\n",
    "del_L_t2 = sym.diff(L, theta2)\n",
    "d_del_L_dt1 = sym.diff(sym.diff(L, dtheta1_dt), t).simplify()\n",
    "d_del_L_dt2 = sym.diff(sym.diff(L, dtheta2_dt), t).simplify()"
   ]
  },
  {
   "cell_type": "code",
   "execution_count": 27,
   "metadata": {},
   "outputs": [],
   "source": [
    "L_1 = sym.Eq(del_L_t1, d_del_L_dt1)\n",
    "L_2 = sym.Eq(del_L_t2, d_del_L_dt2)"
   ]
  },
  {
   "attachments": {},
   "cell_type": "markdown",
   "metadata": {},
   "source": [
    "Solve for second derivatives"
   ]
  },
  {
   "cell_type": "code",
   "execution_count": 28,
   "metadata": {},
   "outputs": [],
   "source": [
    "sol = sym.solve([L_1, L_2], [ddtheta1_dtdt, ddtheta2_dtdt])\n",
    "ddtheta1_dtdt = sol[ddtheta1_dtdt]\n",
    "ddtheta2_dtdt = sol[ddtheta2_dtdt]"
   ]
  },
  {
   "attachments": {},
   "cell_type": "markdown",
   "metadata": {},
   "source": [
    "Put in form of a system of first order ODEs:\n",
    "$$ \\underline{\\dot{z}} = f(t,\\underline{z})$$\n",
    "\n",
    "$$ \\underline{z} = [\\theta_1, \\dot{\\theta}_1,\\theta_2, \\dot{\\theta}_2] \\implies \\underline{\\dot{z}} = [\\dot{\\theta}_1, \\ddot{\\theta}_1,\\dot{\\theta}_2, \\ddot{\\theta}_2]$$"
   ]
  },
  {
   "cell_type": "code",
   "execution_count": 31,
   "metadata": {},
   "outputs": [],
   "source": [
    "# Turn the symbolic equations into functions\n",
    "func_dtheta1_dt = sym.lambdify(dtheta1_dt, dtheta1_dt)\n",
    "func_ddtheta1_dtdt = sym.lambdify((theta1, theta2, dtheta1_dt, dtheta2_dt, g), ddtheta1_dtdt)\n",
    "func_dtheta2_dt = sym.lambdify(dtheta2_dt, dtheta2_dt)\n",
    "func_ddtheta2_dtdt = sym.lambdify((theta1, theta2, dtheta1_dt, dtheta2_dt, g), ddtheta2_dtdt)"
   ]
  },
  {
   "cell_type": "code",
   "execution_count": 32,
   "metadata": {},
   "outputs": [],
   "source": [
    "# Define the state vector\n",
    "def dbl_pendulum_state(t, th, g=9.81):\n",
    "    th1, dth1, th2, dth2 = th\n",
    "    return np.array([dth1, func_ddtheta1_dtdt(th1, th2, dth1, dth2, g), dth2,  func_ddtheta2_dtdt(th1, th2, dth1, dth2, g)])"
   ]
  },
  {
   "cell_type": "code",
   "execution_count": 33,
   "metadata": {},
   "outputs": [],
   "source": [
    "# Solve the ODE: Initial condition vector is [theta1, dtheta1, theta2, dtheta2]\n",
    "c = solve_ivp(dbl_pendulum_state, [0, 10], [np.pi+0.3,  0, np.pi+0.2, 0], t_eval=np.arange(0, 10, 0.01))"
   ]
  },
  {
   "cell_type": "code",
   "execution_count": 34,
   "metadata": {},
   "outputs": [],
   "source": [
    "# Get the x and y positions of the pendulums\n",
    "th1 = c.y[0]\n",
    "dth1 = c.y[1]\n",
    "th2 = c.y[2]\n",
    "dth2 = c.y[3]\n",
    "x1 = np.sin(th1)\n",
    "y1 = -np.cos(th1)\n",
    "x2 = x1 + np.sin(th2)\n",
    "y2 = y1 - np.cos(th2)"
   ]
  },
  {
   "cell_type": "code",
   "execution_count": 35,
   "metadata": {},
   "outputs": [
    {
     "data": {
      "image/png": "[encoded data removed]",
      "text/plain": [
       "<Figure size 720x720 with 1 Axes>"
      ]
     },
     "metadata": {
      "needs_background": "light"
     },
     "output_type": "display_data"
    }
   ],
   "source": [
    "fig, axes = plt.subplots(nrows=1, ncols=1, figsize=(10, 10))\n",
    " \n",
    "\n",
    "axes.set_ylim(-4,4)\n",
    "axes.set_xlim(-4,4)\n",
    "\n",
    "line1, = axes.plot([], [], lw = 2, color = 'red', marker = 'o', markersize = 10)\n",
    "line2, = axes.plot([], [], lw = 2, color = 'blue', marker = 'o', markersize = 20)\n",
    "\n",
    "axes.legend([line1, line2], ['Inner', 'Outer'])\n",
    "\n",
    "def init():\n",
    "    line1.set_data([], [])\n",
    "    line2.set_data([], [])\n",
    "    return line1, line2,\n",
    "\n",
    "\n",
    "# animation function\n",
    "def animate(i):\n",
    "    # x, y values to be plotted\n",
    "    line1.set_data(x1[i], y1[i])\n",
    "    line2.set_data(x2[i], y2[i])\n",
    "    return line1, line2,\n",
    " \n",
    "# calling the animation function    \n",
    "anim = animation.FuncAnimation(fig, animate,\n",
    "                            init_func = init,\n",
    "                            frames = 400,\n",
    "                            interval = 20,\n",
    "                            blit = True)\n",
    "anim.save('pend.mp4', writer = 'ffmpeg', fps = 30)"
   ]
  },
  {
   "cell_type": "code",
   "execution_count": null,
   "metadata": {},
   "outputs": [],
   "source": []
  }
 ],
 "metadata": {
  "kernelspec": {
   "display_name": "base",
   "language": "python",
   "name": "python3"
  },
  "language_info": {
   "codemirror_mode": {
    "name": "ipython",
    "version": 3
   },
   "file_extension": ".py",
   "mimetype": "text/x-python",
   "name": "python",
   "nbconvert_exporter": "python",
   "pygments_lexer": "ipython3",
   "version": "3.8.8"
  },
  "orig_nbformat": 4
 },
 "nbformat": 4,
 "nbformat_minor": 2
}
