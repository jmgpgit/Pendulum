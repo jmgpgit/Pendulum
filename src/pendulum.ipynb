{
 "cells": [
  {
   "cell_type": "code",
   "execution_count": 19,
   "metadata": {},
   "outputs": [],
   "source": [
    "import numpy as np\n",
    "import matplotlib.pyplot as plt\n",
    "import seaborn as sns\n",
    "import matplotlib.animation as animation\n",
    "from functools import partial\n",
    "from collections import deque\n",
    "%matplotlib inline\n",
    "from scipy.integrate import solve_ivp\n",
    "import sympy as sym\n",
    "sym.init_printing()"
   ]
  },
  {
   "cell_type": "code",
   "execution_count": 95,
   "metadata": {},
   "outputs": [],
   "source": [
    "class Small_Pendulum:\n",
    "    def __init__(self, m=1, l=1, g=9.81, initial_theta=0, initial_omega=0, time = 10, dt = 0.01):\n",
    "        self.m = m # mass of the pendulum\n",
    "        self.l = l # length of the pendulum\n",
    "        self.g = g # gravitational acceleration\n",
    "\n",
    "        \n",
    "        # small pendulum equation: theta'' + g/l * theta = 0\n",
    "        sol = solve_ivp(lambda t, y : [y[1], -g/l * y[0]], [0, time], [initial_theta, initial_omega], t_eval=np.arange(0, time, dt))\n",
    "        \n",
    "        self.t = sol.t\n",
    "        self.thetas = sol.y[0]\n",
    "        self.omegas = sol.y[1]\n",
    "        self.alphas = -g/l * sol.y[0]\n",
    "        \n",
    "        self.x = self.l*np.sin(self.thetas) # x position\n",
    "        self.y = -self.l*np.cos(self.thetas) # y position\n",
    "\n",
    "\n",
    "class Pendulum:\n",
    "    def __init__(self, m=1, l=1, g=9.81, initial_theta=0, initial_omega=0, time = 10, dt = 0.01):\n",
    "        self.m = m # mass of the pendulum\n",
    "        self.l = l # length of the pendulum\n",
    "        self.g = g # gravitational acceleration\n",
    "\n",
    "        \n",
    "        # pendulum equation: theta'' + g/l * sin(theta) = 0\n",
    "        sol = solve_ivp(lambda t, y : [y[1], -g/l * np.sin(y[0])], [0, time], [initial_theta, initial_omega], t_eval=np.arange(0, time, dt))\n",
    "        \n",
    "        self.t = sol.t\n",
    "        self.thetas = sol.y[0]\n",
    "        self.omegas = sol.y[1]\n",
    "        self.alphas = -g/l * sol.y[0]\n",
    "        \n",
    "        self.x = self.l*np.sin(self.thetas) # x position\n",
    "        self.y = -self.l*np.cos(self.thetas) # y position\n",
    "        \n"
   ]
  },
  {
   "cell_type": "code",
   "execution_count": 96,
   "metadata": {},
   "outputs": [],
   "source": [
    "initial_theta = np.pi+0.3\n",
    "pendulum = Pendulum(initial_theta=initial_theta, time = 20)\n",
    "small_pendulum = Small_Pendulum(initial_theta=initial_theta, time = 20)"
   ]
  },
  {
   "cell_type": "code",
   "execution_count": 99,
   "metadata": {},
   "outputs": [
    {
     "data": {
      "image/png": "[encoded data removed]",
      "text/plain": [
       "<Figure size 720x720 with 1 Axes>"
      ]
     },
     "metadata": {
      "needs_background": "light"
     },
     "output_type": "display_data"
    }
   ],
   "source": [
    "fig, axes = plt.subplots(nrows=1, ncols=1, figsize=(10, 10))\n",
    " \n",
    "\n",
    "axes.set_ylim(-2,2)\n",
    "axes.set_xlim(-2,2)\n",
    "\n",
    "line1, = axes.plot([], [], lw = 2, color = 'red', marker = 'o', markersize = 10)\n",
    "line2, = axes.plot([], [], lw = 2, color = 'blue', marker = 'o', markersize = 10)\n",
    "\n",
    "axes.legend([line1, line2], ['Small Pendulum', 'Pendulum'])\n",
    "\n",
    "def init():\n",
    "    line1.set_data([], [])\n",
    "    line2.set_data([], [])\n",
    "    return line1, line2,\n",
    "\n",
    "\n",
    "# animation function\n",
    "def animate(i):\n",
    "    x0, y0 = small_pendulum.x[i], small_pendulum.y[i]\n",
    "    x1, y1 = pendulum.x[i], pendulum.y[i]\n",
    "    # x, y values to be plotted\n",
    "    line1.set_data(x0, y0)\n",
    "    line2.set_data(x1, y1)\n",
    "    return line1, line2,\n",
    " \n",
    "# calling the animation function    \n",
    "anim = animation.FuncAnimation(fig, animate,\n",
    "                            init_func = init,\n",
    "                            frames = 400,\n",
    "                            interval = 20,\n",
    "                            blit = True)\n",
    "anim.save('pend.mp4', writer = 'ffmpeg', fps = 30)"
   ]
  },
  {
   "attachments": {},
   "cell_type": "markdown",
   "metadata": {},
   "source": [
    "### Double Pendulum"
   ]
  },
  {
   "attachments": {},
   "cell_type": "markdown",
   "metadata": {},
   "source": [
    "System Set-up"
   ]
  },
  {
   "cell_type": "code",
   "execution_count": 261,
   "metadata": {},
   "outputs": [],
   "source": [
    "g, t = sym.symbols('g t')"
   ]
  },
  {
   "cell_type": "code",
   "execution_count": 262,
   "metadata": {},
   "outputs": [],
   "source": [
    "t1 = sym.Function('theta1')(t)\n",
    "t2 = sym.Function('theta2')(t)\n",
    "dt1 = sym.diff(t1, t)\n",
    "dt2 = sym.diff(t2, t)\n",
    "ddt1 = sym.diff(dt1, t)\n",
    "ddt2 = sym.diff(dt2, t)"
   ]
  },
  {
   "cell_type": "code",
   "execution_count": 263,
   "metadata": {},
   "outputs": [],
   "source": [
    "x1 = sym.sin(t1)\n",
    "y1 = -sym.cos(t1)\n",
    "x2 = x1 + sym.sin(t2)\n",
    "y2 = y1 - sym.cos(t2)"
   ]
  },
  {
   "attachments": {},
   "cell_type": "markdown",
   "metadata": {},
   "source": [
    "Lagrangian"
   ]
  },
  {
   "cell_type": "code",
   "execution_count": 264,
   "metadata": {},
   "outputs": [],
   "source": [
    "T = sym.S(1)/2 * (sym.diff(x1, t)**2 + sym.diff(y1, t)**2 + sym.diff(x2, t)**2 + sym.diff(y2, t)**2)\n",
    "U = -g * (y1 + y2)\n",
    "L = (T - U).simplify()"
   ]
  },
  {
   "attachments": {},
   "cell_type": "markdown",
   "metadata": {},
   "source": [
    "Euler-Lagrange Equations"
   ]
  },
  {
   "cell_type": "code",
   "execution_count": 265,
   "metadata": {},
   "outputs": [],
   "source": [
    "del_L_t1 = sym.diff(L, t1)\n",
    "del_L_t2 = sym.diff(L, t2)\n",
    "d_del_L_dt1 = sym.diff(sym.diff(L, dt1), t).simplify()\n",
    "d_del_L_dt2 = sym.diff(sym.diff(L, dt2), t).simplify()"
   ]
  },
  {
   "cell_type": "code",
   "execution_count": 266,
   "metadata": {},
   "outputs": [],
   "source": [
    "L_1 = sym.Eq(del_L_t1, d_del_L_dt1)\n",
    "L_2 = sym.Eq(del_L_t2, d_del_L_dt2)"
   ]
  },
  {
   "attachments": {},
   "cell_type": "markdown",
   "metadata": {},
   "source": [
    "Solve for second derivatives"
   ]
  },
  {
   "cell_type": "code",
   "execution_count": 267,
   "metadata": {},
   "outputs": [],
   "source": [
    "sol = sym.solve([L_1, L_2], [ddt1, ddt2])\n",
    "ddt1 = sol[ddt1]\n",
    "ddt2 = sol[ddt2]"
   ]
  },
  {
   "attachments": {},
   "cell_type": "markdown",
   "metadata": {},
   "source": [
    "Put in form of a system of first order ODEs:\n",
    "$$ \\underline{\\dot{z}} = f(t,\\underline{z})$$\n",
    "\n",
    "$$ \\underline{z} = [\\theta_1, \\dot{\\theta}_1,\\theta_2, \\dot{\\theta}_2] \\implies \\underline{\\dot{z}} = [\\dot{\\theta}_1, \\ddot{\\theta}_1,\\dot{\\theta}_2, \\ddot{\\theta}_2]$$"
   ]
  },
  {
   "cell_type": "code",
   "execution_count": 268,
   "metadata": {},
   "outputs": [],
   "source": [
    "dt1_val = sym.lambdify(dt1, dt1)\n",
    "ddt1_val = sym.lambdify((t1, t2, dt1, dt2, g), ddt1)\n",
    "dt2_val = sym.lambdify(dt2, dt2)\n",
    "ddt2_val = sym.lambdify((t1, t2, dt1, dt2, g), ddt2)"
   ]
  },
  {
   "cell_type": "code",
   "execution_count": 269,
   "metadata": {},
   "outputs": [],
   "source": [
    "def dbl_pendulum_state(t, th, g=9.81):\n",
    "    th1, dt1, th2, dt2 = th\n",
    "    return np.array([dt1, ddt1_val(th1, th2, dt1, dt2, g), dt2,  ddt2_val(th1, th2, dt1, dt2, g)])"
   ]
  },
  {
   "cell_type": "code",
   "execution_count": 270,
   "metadata": {},
   "outputs": [],
   "source": [
    "c = solve_ivp(dbl_pendulum_state, [0, 10], [np.pi+0.3,  0, np.pi+0.2, 0], t_eval=np.arange(0, 10, 0.01))"
   ]
  },
  {
   "cell_type": "code",
   "execution_count": 271,
   "metadata": {},
   "outputs": [],
   "source": [
    "th1 = c.y[0]\n",
    "dth1 = c.y[1]\n",
    "th2 = c.y[2]\n",
    "dth2 = c.y[3]\n",
    "x1 = np.sin(th1)\n",
    "y1 = -np.cos(th1)\n",
    "x2 = x1 + np.sin(th2)\n",
    "y2 = y1 - np.cos(th2)"
   ]
  },
  {
   "cell_type": "code",
   "execution_count": 272,
   "metadata": {},
   "outputs": [
    {
     "data": {
      "image/png": "[encoded data removed]",
      "text/plain": [
       "<Figure size 720x720 with 1 Axes>"
      ]
     },
     "metadata": {
      "needs_background": "light"
     },
     "output_type": "display_data"
    }
   ],
   "source": [
    "fig, axes = plt.subplots(nrows=1, ncols=1, figsize=(10, 10))\n",
    " \n",
    "\n",
    "axes.set_ylim(-4,4)\n",
    "axes.set_xlim(-4,4)\n",
    "\n",
    "line1, = axes.plot([], [], lw = 2, color = 'red', marker = 'o', markersize = 10)\n",
    "line2, = axes.plot([], [], lw = 2, color = 'blue', marker = 'o', markersize = 20)\n",
    "\n",
    "axes.legend([line1, line2], ['Inner', 'Outer'])\n",
    "\n",
    "def init():\n",
    "    line1.set_data([], [])\n",
    "    line2.set_data([], [])\n",
    "    return line1, line2,\n",
    "\n",
    "\n",
    "# animation function\n",
    "def animate(i):\n",
    "    # x, y values to be plotted\n",
    "    line1.set_data(x1[i], y1[i])\n",
    "    line2.set_data(x2[i], y2[i])\n",
    "    return line1, line2,\n",
    " \n",
    "# calling the animation function    \n",
    "anim = animation.FuncAnimation(fig, animate,\n",
    "                            init_func = init,\n",
    "                            frames = 400,\n",
    "                            interval = 20,\n",
    "                            blit = True)\n",
    "anim.save('pend.mp4', writer = 'ffmpeg', fps = 30)"
   ]
  },
  {
   "cell_type": "code",
   "execution_count": null,
   "metadata": {},
   "outputs": [],
   "source": []
  }
 ],
 "metadata": {
  "kernelspec": {
   "display_name": "base",
   "language": "python",
   "name": "python3"
  },
  "language_info": {
   "codemirror_mode": {
    "name": "ipython",
    "version": 3
   },
   "file_extension": ".py",
   "mimetype": "text/x-python",
   "name": "python",
   "nbconvert_exporter": "python",
   "pygments_lexer": "ipython3",
   "version": "3.8.8"
  },
  "orig_nbformat": 4
 },
 "nbformat": 4,
 "nbformat_minor": 2
}
