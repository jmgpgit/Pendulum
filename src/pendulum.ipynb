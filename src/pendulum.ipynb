{
 "cells": [
  {
   "cell_type": "code",
   "execution_count": 89,
   "metadata": {},
   "outputs": [],
   "source": [
    "import numpy as np\n",
    "import matplotlib.pyplot as plt\n",
    "import seaborn as sns\n",
    "import matplotlib.animation as animation\n",
    "from functools import partial\n",
    "from collections import deque\n",
    "%matplotlib inline\n",
    "from scipy.integrate import RK45, solve_ivp"
   ]
  },
  {
   "cell_type": "code",
   "execution_count": 80,
   "metadata": {},
   "outputs": [],
   "source": [
    "class Small_Pendulum:\n",
    "    def __init__(self, m, l, g=9.81, initial_theta=0, initial_omega=0):\n",
    "        self.m = m # mass of the pendulum\n",
    "        self.l = l # length of the pendulum\n",
    "        self.g = g # gravitational acceleration\n",
    "        \n",
    "        self.t = 0 # time\n",
    "        \n",
    "        coef = np.sqrt(g/l) # coefficient for the equation of motion\n",
    "        self.theta = lambda t = self.t : initial_omega / coef * np.sin(coef * t) + initial_theta * np.cos(coef * t) # theta(t)\n",
    "        self.omega = lambda t = self.t : initial_omega * np.cos(coef * t) - coef * initial_theta * np.sin(coef * t) # omega(t)\n",
    "        self.alpha = lambda t = self.t : -coef * initial_omega * np.sin(coef * t) - g / l * initial_theta * np.cos(coef * t) # alpha(t)\n",
    "        \n",
    "        self.x = lambda t = self.t : self.l*np.sin(self.theta(t)) # x position\n",
    "        self.y = lambda t = self.t : -self.l*np.cos(self.theta(t)) # y position\n",
    "        self.v_x = lambda t = self.t : self.l*self.omega(t)*np.cos(self.theta(t)) # x velocity\n",
    "        self.v_y = lambda t = self.t : self.l*self.omega(t)*np.sin(self.theta(t)) # y velocity\n",
    "        self.a_x = lambda t = self.t : -self.g*np.sin(self.theta(t)) # x acceleration\n",
    "        self.a_y = lambda t = self.t : self.g*np.cos(self.theta(t)) # y acceleration\n",
    "    \n",
    "    def update(self, dt):\n",
    "        self.t += dt\n",
    "        \n",
    "    def x_y_time(self, t_start , t_end, dt):\n",
    "        t = np.arange(t_start, t_end, dt)\n",
    "        x = np.array([self.x(i) for i in t])\n",
    "        y = np.array([self.y(i) for i in t])\n",
    "        return x, y, t\n",
    "    "
   ]
  },
  {
   "cell_type": "code",
   "execution_count": 81,
   "metadata": {},
   "outputs": [],
   "source": [
    "pend = Small_Pendulum(1, 1, initial_theta=np.pi/6, initial_omega=0)"
   ]
  },
  {
   "cell_type": "code",
   "execution_count": 82,
   "metadata": {},
   "outputs": [
    {
     "data": {
      "image/png": "[encoded data removed]",
      "text/plain": [
       "<Figure size 432x288 with 1 Axes>"
      ]
     },
     "metadata": {
      "needs_background": "light"
     },
     "output_type": "display_data"
    }
   ],
   "source": [
    "# creating a blank window\n",
    "# for the animation\n",
    "fig = plt.figure()\n",
    "axis = plt.axes(xlim =(-1.2, 1.2),\n",
    "                ylim =(-1.2, 1.2))\n",
    " \n",
    "line, = axis.plot([], [], lw = 2, color = 'red', marker = 'o', markersize = 10)\n",
    " \n",
    "# what will our line dataset\n",
    "# contain?\n",
    "def init():\n",
    "    line.set_data([], [])\n",
    "    return line,\n",
    "\n",
    "\n",
    "# animation function\n",
    "def animate(i, start = 0, end = 0.05):\n",
    "    # t is a parameter which varies\n",
    "    # with the frame number\n",
    "\n",
    "    x, y, _ = pend.x_y_time(start + i/100, end + i/100, 0.01)\n",
    "    # x, y values to be plotted\n",
    "     \n",
    "    # appending values to the previously\n",
    "    # empty x and y data holders\n",
    "\n",
    "    line.set_data(x, y)\n",
    "    \n",
    "    return line,\n",
    " \n",
    "# calling the animation function    \n",
    "anim = animation.FuncAnimation(fig, animate,\n",
    "                            init_func = init,\n",
    "                            frames = 200,\n",
    "                            interval = 20,\n",
    "                            blit = True)\n",
    "anim.save('pend.mp4', writer = 'ffmpeg', fps = 30)"
   ]
  },
  {
   "cell_type": "code",
   "execution_count": 190,
   "metadata": {},
   "outputs": [],
   "source": [
    "def solve_pendulum_ivp(t_start, t_end, dt, initial_state = [np.pi/6, 0], g = 9.81, l = 1):\n",
    "    t = np.arange(t_start, t_end, dt)\n",
    "    sol = solve_ivp(lambda t, y : [-g/l * y[1], np.sin(y[0])], [t_start, t_end], initial_state, t_eval=t)\n",
    "    \n",
    "    return sol.t, np.arcsin(sol.y[1]), sol.y[0], -g/l * sol.y[1]\n",
    "\n",
    "\n",
    "class Pendulum:\n",
    "    def __init__(self, m=1, l=1, g=9.81, initial_theta=0, initial_omega=0, time = 10, dt = 0.01):\n",
    "        self.m = m # mass of the pendulum\n",
    "        self.l = l # length of the pendulum\n",
    "        self.g = g # gravitational acceleration\n",
    "\n",
    "        \n",
    "        # pendulum equation: theta'' + g/l * sin(theta) = 0\n",
    "        sol = solve_ivp(lambda t, y : [y[1], -g/l * np.sin(y[0])], [0, time], [initial_theta, initial_omega], t_eval=np.arange(0, time, dt))\n",
    "        \n",
    "        self.t = sol.t\n",
    "        self.thetas = sol.y[1]\n",
    "        self.omegas = sol.y[0]\n",
    "        self.alphas = -g/l * sol.y[1]\n",
    "        \n",
    "        self.x = self.l*np.sin(self.thetas) # x position\n",
    "        self.y = -self.l*np.cos(self.thetas) # y position\n",
    "        "
   ]
  },
  {
   "cell_type": "code",
   "execution_count": 191,
   "metadata": {},
   "outputs": [],
   "source": [
    "pen = Pendulum(initial_theta=-np.pi/6, time = 1)"
   ]
  },
  {
   "cell_type": "code",
   "execution_count": 192,
   "metadata": {},
   "outputs": [
    {
     "data": {
      "text/plain": [
       "[<matplotlib.lines.Line2D at 0x1882879c400>]"
      ]
     },
     "execution_count": 192,
     "metadata": {},
     "output_type": "execute_result"
    },
    {
     "data": {
      "image/png": "[encoded data removed]",
      "text/plain": [
       "<Figure size 432x288 with 1 Axes>"
      ]
     },
     "metadata": {
      "needs_background": "light"
     },
     "output_type": "display_data"
    }
   ],
   "source": [
    "plt.plot(pen.x, pen.y)"
   ]
  },
  {
   "cell_type": "code",
   "execution_count": 193,
   "metadata": {},
   "outputs": [
    {
     "data": {
      "image/png": "[encoded data removed]",
      "text/plain": [
       "<Figure size 432x288 with 1 Axes>"
      ]
     },
     "metadata": {
      "needs_background": "light"
     },
     "output_type": "display_data"
    }
   ],
   "source": [
    "fig = plt.figure()\n",
    "axis = plt.axes(xlim =(-5,5),\n",
    "                ylim =(-5, 5))\n",
    " \n",
    "line, = axis.plot([], [], lw = 2, color = 'red', marker = 'o', markersize = 10)\n",
    " \n",
    "# what will our line dataset\n",
    "# contain?\n",
    "def init():\n",
    "    line.set_data([], [])\n",
    "    return line,\n",
    "\n",
    "\n",
    "# animation function\n",
    "def animate(i):\n",
    "    x, y = pen.x[max(0, i - 5):i] , pen.y[max(0, i - 5):i]\n",
    "\n",
    "    line.set_data(x, y)\n",
    "    \n",
    "    return line,\n",
    " \n",
    "# calling the animation function    \n",
    "anim = animation.FuncAnimation(fig, animate,\n",
    "                            init_func = init,\n",
    "                            frames = 300,\n",
    "                            interval = 20,\n",
    "                            blit = True)\n",
    "anim.save('pend.mp4', writer = 'ffmpeg', fps = 30)"
   ]
  },
  {
   "cell_type": "code",
   "execution_count": null,
   "metadata": {},
   "outputs": [],
   "source": []
  }
 ],
 "metadata": {
  "kernelspec": {
   "display_name": "base",
   "language": "python",
   "name": "python3"
  },
  "language_info": {
   "codemirror_mode": {
    "name": "ipython",
    "version": 3
   },
   "file_extension": ".py",
   "mimetype": "text/x-python",
   "name": "python",
   "nbconvert_exporter": "python",
   "pygments_lexer": "ipython3",
   "version": "3.8.8"
  },
  "orig_nbformat": 4
 },
 "nbformat": 4,
 "nbformat_minor": 2
}
