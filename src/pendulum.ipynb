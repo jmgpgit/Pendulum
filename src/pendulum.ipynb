{
 "cells": [
  {
   "cell_type": "code",
   "execution_count": 3,
   "metadata": {},
   "outputs": [],
   "source": [
    "import numpy as np\n",
    "import matplotlib.pyplot as plt\n",
    "import seaborn as sns\n",
    "import matplotlib.animation as animation\n",
    "from functools import partial\n",
    "from collections import deque\n",
    "%matplotlib inline\n",
    "from scipy.integrate import solve_ivp\n",
    "import sympy as sym\n",
    "sym.init_printing()\n",
    "import tensorflow as tf"
   ]
  },
  {
   "cell_type": "code",
   "execution_count": 13,
   "metadata": {},
   "outputs": [],
   "source": [
    "g = 9.81 # gravitational acceleration\n",
    "# Note: m = 1, l = 1, g = 9.81 for all pendulums"
   ]
  },
  {
   "attachments": {},
   "cell_type": "markdown",
   "metadata": {},
   "source": [
    "### Single Pendulum"
   ]
  },
  {
   "cell_type": "code",
   "execution_count": 11,
   "metadata": {},
   "outputs": [],
   "source": [
    "# animation function\n",
    "\n",
    "def animate_single_pendulum(xs, ys, frames = 400,filename='pend.mp4'):\n",
    "    fig, axes = plt.subplots(nrows=1, ncols=1, figsize=(10, 10))\n",
    " \n",
    "\n",
    "    axes.set_ylim(-2,2)\n",
    "    axes.set_xlim(-2,2)\n",
    "\n",
    "\n",
    "    line1, = axes.plot([], [], lw = 2, color = 'red', marker = 'o', markersize = 10)\n",
    "    line0, = axes.plot([0], [0], lw = 2, color = 'black', marker = 'o', markersize = 10)\n",
    "\n",
    "    axes.legend([line0,line1], ['Pivot', 'Pendulum'])\n",
    "\n",
    "    def init():\n",
    "        line1.set_data([], [])\n",
    "        return line1, \n",
    "\n",
    "\n",
    "    # animation function\n",
    "    def animate(i):\n",
    "        x0, y0 = xs[i], ys[i]\n",
    "        # x, y values to be plotted\n",
    "        line1.set_data(x0, y0)\n",
    "        return line1,\n",
    "    \n",
    "    # calling the animation function    \n",
    "    anim = animation.FuncAnimation(fig, animate,\n",
    "                                init_func = init,\n",
    "                                frames = frames,\n",
    "                                interval = 20,\n",
    "                                blit = True)\n",
    "    anim.save('pend.mp4', writer = 'ffmpeg', fps = 30)\n",
    "    "
   ]
  },
  {
   "cell_type": "code",
   "execution_count": 15,
   "metadata": {},
   "outputs": [],
   "source": [
    "class Small_Pendulum:\n",
    "    def __init__(self, initial_theta=0, initial_omega=0, time = 10, dt = 0.01):\n",
    "\n",
    "        # small pendulum equation: theta'' + g/l * theta = 0\n",
    "        sol = solve_ivp(lambda t, y : [y[1], -g * y[0]], \n",
    "                        [0, time], \n",
    "                        [initial_theta, initial_omega], \n",
    "                        t_eval=np.arange(0, time, dt))\n",
    "        \n",
    "        self.thetas = sol.y[0]\n",
    "        \n",
    "        self.xs = np.sin(self.thetas) # x position\n",
    "        self.ys = -np.cos(self.thetas) # y position\n",
    "\n",
    "\n",
    "class Pendulum:\n",
    "    def __init__(self, initial_theta=0, initial_omega=0, time = 10, dt = 0.01):\n",
    "\n",
    "        # pendulum equation: theta'' + g/l * sin(theta) = 0\n",
    "        sol = solve_ivp(lambda t, y : [y[1], -g * np.sin(y[0])], \n",
    "                        [0, time], \n",
    "                        [initial_theta, initial_omega], \n",
    "                        t_eval=np.arange(0, time, dt))\n",
    "\n",
    "        self.thetas = sol.y[0]\n",
    "\n",
    "        self.xs = np.sin(self.thetas) # x position\n",
    "        self.ys = -np.cos(self.thetas) # y position\n",
    "\n",
    "class Pendulum_with_drag:\n",
    "    def __init__(self, initial_theta=0, initial_omega=0, time = 10, dt = 0.01, b = 0.1):\n",
    "\n",
    "        # pendulum equation: theta'' + b * theta' + g/l * sin(theta) = 0\n",
    "        sol = solve_ivp(lambda t, y : [y[1], -g * np.sin(y[0]) - b * y[1]], \n",
    "                        [0, time], \n",
    "                        [initial_theta, initial_omega], \n",
    "                        t_eval=np.arange(0, time, dt))\n",
    "\n",
    "        self.thetas = sol.y[0]\n",
    "\n",
    "        self.xs = np.sin(self.thetas) # x position\n",
    "        self.ys = -np.cos(self.thetas) # y position"
   ]
  },
  {
   "cell_type": "code",
   "execution_count": 26,
   "metadata": {},
   "outputs": [],
   "source": [
    "theta = np.pi - 1\n",
    "perfect = Pendulum(initial_theta=theta)\n",
    "small = Small_Pendulum(initial_theta=theta)\n",
    "drag = Pendulum_with_drag(initial_theta = theta, b = 0.1)"
   ]
  },
  {
   "cell_type": "code",
   "execution_count": 27,
   "metadata": {},
   "outputs": [
    {
     "data": {
      "image/png": "[encoded data removed]",
      "text/plain": [
       "<Figure size 720x720 with 1 Axes>"
      ]
     },
     "metadata": {
      "needs_background": "light"
     },
     "output_type": "display_data"
    }
   ],
   "source": [
    "fig, axes = plt.subplots(nrows=1, ncols=1, figsize=(10, 10))\n",
    " \n",
    "\n",
    "axes.set_ylim(-2,2)\n",
    "axes.set_xlim(-2,2)\n",
    "\n",
    "line0, = axes.plot([0], [0], lw = 2, color = 'black', marker = 'o', markersize = 10)\n",
    "line1, = axes.plot([], [], lw = 2, color = 'red', marker = 'o', markersize = 10)\n",
    "line2, = axes.plot([], [], lw = 2, color = 'blue', marker = 'o', markersize = 10)\n",
    "line3, = axes.plot([], [], lw = 2, color = 'green', marker = 'o', markersize = 10)\n",
    "\n",
    "axes.legend([line0, line1, line2, line3], ['Pivot', 'Small Pendulum', 'Perfect Pendulum', 'Pendulum with Drag'])\n",
    "\n",
    "def init():\n",
    "    line1.set_data([], [])\n",
    "    line2.set_data([], [])\n",
    "    line3.set_data([], [])\n",
    "    return line1, line2, line3,\n",
    "\n",
    "\n",
    "# animation function\n",
    "def animate(i):\n",
    "    x0, y0 = small.xs[i], small.ys[i]\n",
    "    x1, y1 = perfect.xs[i], perfect.ys[i]\n",
    "    x2, y2 = drag.xs[i], drag.ys[i]\n",
    "    # x, y values to be plotted\n",
    "    line1.set_data(x0, y0)\n",
    "    line2.set_data(x1, y1)\n",
    "    line3.set_data(x2, y2)\n",
    "    return line1, line2, line3,\n",
    " \n",
    "# calling the animation function    \n",
    "anim = animation.FuncAnimation(fig, animate,\n",
    "                            init_func = init,\n",
    "                            frames = 800,\n",
    "                            interval = 20,\n",
    "                            blit = True)\n",
    "anim.save('pend.mp4', writer = 'ffmpeg', fps = 30)"
   ]
  },
  {
   "cell_type": "markdown",
   "metadata": {},
   "source": [
    "### Adding Perturbations"
   ]
  },
  {
   "cell_type": "code",
   "execution_count": null,
   "metadata": {},
   "outputs": [],
   "source": [
    "class Perturbable_Pendulum_v4:\n",
    "    def __init__(self, initial_theta=0, initial_omega=0, max_time = 10, dt = 0.01, alphas = [0 for i in range(1000)], beta = 10000, damping = 0.1):\n",
    "        \n",
    "        # pendulum equation: theta'' + damping*theta' + g*sin(theta) = perturbation\n",
    "        # perturbation is a function of time\n",
    "        # we will use alpha_i * exp(-beta*(t-t_i)**2) as a pulse \n",
    "        # perturbation is a sum of pulses\n",
    "        \n",
    "        self.time = 0\n",
    "        self.theta = initial_theta\n",
    "        self.omega = initial_omega\n",
    "        \n",
    "        self.dt = dt\n",
    "        self.max_time = max_time\n",
    "        \n",
    "        self.alphas = alphas # alphas is a list of constants that determine the height of the pulse\n",
    "        self.beta = beta # beta is a constant that determines the width of the pulse\n",
    "        self.damping = damping # damping is a constant that determines the damping of the pendulum\n",
    "        \n",
    "        # sol = self.solve_pulses()\n",
    "        # self.thetas = sol.y[0]\n",
    "        # self.xs = np.sin(self.thetas)\n",
    "        # self.ys = -np.cos(self.thetas)\n",
    "        \n",
    "        \n",
    "    def pulse(self, t, t_i, alpha):\n",
    "        # the nth pulse formula\n",
    "        # pulse is a bump function that happens in between time steps\n",
    "        return alpha * np.exp(-self.beta * (t - t_i)**2)\n",
    "    \n",
    "    def pulse_sum(self, t):\n",
    "        # the sum of all pulses\n",
    "        return np.sum([self.pulse(t, t_i, alpha) for t_i, alpha in zip(np.arange(0, self.max_time, self.dt), self.alphas)])\n",
    "    \n",
    "    def state_space(self, t, y):\n",
    "        # state space vector [theta, omega, t] -> d/dt -> [omega, -g/l * sin(theta) + -damping * omega + perturbation, 1]\n",
    "        return [y[1], -g*np.sin(y[0]) + -self.damping*y[1] + self.pulse_sum(y[2]), 1]\n",
    "    \n",
    "    def solve_pulses(self):\n",
    "        # solve the nth pulse\n",
    "        return solve_ivp(self.state_space,\n",
    "                    [0, self.max_time],\n",
    "                    [self.theta, self.omega, 0], \n",
    "                    t_eval=np.arange(0, self.max_time, self.dt))\n",
    "    \n",
    "    def dynamic_state_space(self, t, y, alpha, t_i):\n",
    "        # state space vector [theta, omega, t] -> d/dt -> [omega, -g/l * sin(theta) + local_perturbation, 1]\n",
    "        return [y[1], -g*np.sin(y[0]) + -self.damping*y[1] + self.pulse(y[2], t_i, alpha), 1]\n",
    "    \n",
    "    def solve_time_step(self, initial_theta, initial_omega, initial_time, alpha):\n",
    "        # solve the nth time step\n",
    "        return solve_ivp(partial(self.dynamic_state_space, alpha=alpha, t_i=(initial_time + self.dt/2)),\n",
    "                         [initial_time, initial_time + self.dt],\n",
    "                         [initial_theta, initial_omega, initial_time])\n",
    "    \n",
    "    def dynamic_solve(self):\n",
    "        # we will solve the pendulum in time steps\n",
    "        # we will use the previous time step's solution as the initial condition for the next time step\n",
    "        time = 0\n",
    "        step = 0\n",
    "        alphas = self.alphas\n",
    "        theta = self.theta\n",
    "        omega = self.omega\n",
    "        thetas = [theta]\n",
    "        omegas = [omega]\n",
    "        times = [time]\n",
    "        while time < self.max_time:\n",
    "            sol = self.solve_time_step(theta, omega, time, alphas[step])\n",
    "            theta = sol.y[0][-1]\n",
    "            omega = sol.y[1][-1]\n",
    "            time += self.dt\n",
    "            step += 1\n",
    "            thetas.append(theta)\n",
    "            omegas.append(omega)\n",
    "            times.append(time)\n",
    "        return np.array(thetas), np.array(omegas), np.array(times)\n",
    "    \n",
    "    def dynamic_step(self, alpha):\n",
    "        # we will solve the pendulum in time steps\n",
    "        # we will use the previous time step's solution as the initial condition for the next time step\n",
    "        self.time += self.dt\n",
    "        sol = self.solve_time_step(self.theta, self.omega, self.time, alpha)\n",
    "        self.theta = sol.y[0][-1]\n",
    "        self.omega = sol.y[1][-1]\n",
    "        return self.theta, self.omega, self.time\n",
    "    \n",
    "    def error(self, theta, omega, alpha):\n",
    "        pos_theta = self.solve_time_step(theta, omega, 0, alpha).y[0][-1]\n",
    "        neg_theta = self.solve_time_step(theta, omega, 0, -alpha).y[0][-1]\n",
    "        \n",
    "        if abs(np.cos(pos_theta) - 1) < abs(np.cos(neg_theta) - 1) and abs(np.cos(pos_theta) - 1) < abs(np.cos(theta) - 1):\n",
    "            return 1\n",
    "        elif abs(np.cos(neg_theta) - 1) < abs(np.cos(pos_theta) - 1) and abs(np.cos(neg_theta) - 1) < abs(np.cos(theta) - 1):\n",
    "            return 0\n",
    "        else:\n",
    "            return 0.5\n",
    "    \n",
    "    def machined_solve(self, model, base_alpha):\n",
    "        # we will solve the pendulum in time steps\n",
    "        # we will use the previous time step's solution as the initial condition for the next time step\n",
    "        time = 0\n",
    "        theta = self.theta\n",
    "        omega = self.omega\n",
    "        thetas = [theta]\n",
    "        omegas = [omega]\n",
    "        times = [time]\n",
    "        alphas = []\n",
    "        def p_model(test, model=model, base_alpha=base_alpha):\n",
    "            return (np.argmax(model.predict(test, verbose=False))*2 - 1) * base_alpha * -1\n",
    "        \n",
    "        while time < self.max_time:\n",
    "            alpha = p_model(np.array([[theta, omega]]))\n",
    "            sol = self.solve_time_step(theta, omega, time, alpha)\n",
    "            theta = sol.y[0][-1]\n",
    "            omega = sol.y[1][-1]\n",
    "            time += self.dt\n",
    "            thetas.append(theta)\n",
    "            omegas.append(omega)\n",
    "            times.append(time)\n",
    "            alphas.append(alpha)\n",
    "        return np.array(thetas), np.array(omegas), np.array(times), np.array(alphas)"
   ]
  },
  {
   "cell_type": "code",
   "execution_count": null,
   "metadata": {},
   "outputs": [],
   "source": [
    "thetas = []\n",
    "omegas = []\n",
    "alphas = []\n",
    "base_alpha = 100\n",
    "\n",
    "p4 = Perturbable_Pendulum_v4(initial_theta = np.pi/2, initial_omega = -10, max_time = 100)\n",
    "while p4.time < p4.max_time:\n",
    "    theta, omega, time = p4.dynamic_step(0)\n",
    "    thetas.append(theta)\n",
    "    omegas.append(omega)\n",
    "    alphas.append(p4.error(theta, omega, base_alpha))\n",
    "    \n",
    "p4 = Perturbable_Pendulum_v4(initial_theta = -np.pi-0.01, initial_omega = 13, max_time = 100)\n",
    "while p4.time < p4.max_time:\n",
    "    theta, omega, time = p4.dynamic_step(0)\n",
    "    thetas.append(theta)\n",
    "    omegas.append(omega)\n",
    "    alphas.append(p4.error(theta, omega, base_alpha))"
   ]
  },
  {
   "cell_type": "code",
   "execution_count": null,
   "metadata": {},
   "outputs": [],
   "source": [
    "# input layer with thetas and omegas\n",
    "# output layer with alphas\n",
    "model = tf.keras.models.Sequential([\n",
    "    tf.keras.layers.Flatten(input_shape=(2,)), # input layer, 2 neurons\n",
    "    tf.keras.layers.Dense(10, activation=tf.nn.relu), # hidden layer, 10 neurons\n",
    "    tf.keras.layers.Dropout(0.2), # dropout layer, 20% of neurons are randomly dropped\n",
    "    tf.keras.layers.Dense(3) # output layer, 2 neurons\n",
    "])\n",
    "\n",
    "loss_fn = tf.keras.losses.SparseCategoricalCrossentropy(from_logits=True)\n",
    "\n",
    "model.compile(optimizer='adam',\n",
    "              loss=loss_fn,\n",
    "              metrics=['accuracy'])\n",
    "\n",
    "probability_model = tf.keras.Sequential([\n",
    "  model,\n",
    "  tf.keras.layers.Softmax()\n",
    "])"
   ]
  },
  {
   "cell_type": "code",
   "execution_count": null,
   "metadata": {},
   "outputs": [
    {
     "name": "stdout",
     "output_type": "stream",
     "text": [
      "Epoch 1/5\n",
      "625/625 [==============================] - 1s 712us/step - loss: 7.4049 - accuracy: 0.3103\n",
      "Epoch 2/5\n",
      "625/625 [==============================] - 0s 696us/step - loss: 0.8168 - accuracy: 0.3817\n",
      "Epoch 3/5\n",
      "625/625 [==============================] - 0s 708us/step - loss: 0.6301 - accuracy: 0.3961\n",
      "Epoch 4/5\n",
      "625/625 [==============================] - 0s 708us/step - loss: 0.6077 - accuracy: 0.4030\n",
      "Epoch 5/5\n",
      "625/625 [==============================] - 0s 721us/step - loss: 0.5966 - accuracy: 0.4065\n"
     ]
    },
    {
     "data": {
      "text/plain": [
       "<keras.callbacks.History at 0x131abbcfd60>"
      ]
     },
     "metadata": {},
     "output_type": "display_data"
    }
   ],
   "source": [
    "model.fit(np.array([thetas, omegas]).T, np.array(alphas), epochs=5)"
   ]
  },
  {
   "cell_type": "code",
   "execution_count": null,
   "metadata": {},
   "outputs": [],
   "source": [
    "p4 = Perturbable_Pendulum_v4(initial_theta = np.pi/2, initial_omega = -3, max_time = 10)"
   ]
  },
  {
   "cell_type": "code",
   "execution_count": null,
   "metadata": {},
   "outputs": [],
   "source": [
    "thetas, omegas, times, alphas = p4.machined_solve(model, base_alpha)"
   ]
  },
  {
   "cell_type": "code",
   "execution_count": null,
   "metadata": {},
   "outputs": [],
   "source": [
    "xs = np.sin(thetas)\n",
    "ys = -np.cos(thetas)"
   ]
  },
  {
   "cell_type": "code",
   "execution_count": null,
   "metadata": {},
   "outputs": [
    {
     "data": {
      "image/png": "[encoded data removed]",
      "text/plain": [
       "<Figure size 720x720 with 1 Axes>"
      ]
     },
     "metadata": {},
     "output_type": "display_data"
    }
   ],
   "source": [
    "animate_single_pendulum(xs, ys,frames=600, filename='pend.mp4')"
   ]
  },
  {
   "attachments": {},
   "cell_type": "markdown",
   "metadata": {},
   "source": [
    "\n",
    "\n",
    "\n",
    "\n",
    "\n",
    "\n",
    "\n",
    "\n",
    "\n",
    "\n",
    "\n",
    "\n",
    "### Double Pendulum"
   ]
  },
  {
   "attachments": {},
   "cell_type": "markdown",
   "metadata": {},
   "source": [
    "System Set-up"
   ]
  },
  {
   "cell_type": "code",
   "execution_count": 34,
   "metadata": {},
   "outputs": [],
   "source": [
    "# we take m = 1, l = 1 for both pendulums for simplicity\n",
    "g, t = sym.symbols('g t')\n",
    "\n",
    "# thetas, omegas, and alphas are functions of time\n",
    "theta1 = sym.Function('theta1')(t)\n",
    "theta2 = sym.Function('theta2')(t)\n",
    "dtheta1_dt = sym.diff(theta1, t)\n",
    "dtheta2_dt = sym.diff(theta2, t)\n",
    "ddtheta1_dtdt = sym.diff(dtheta1_dt, t)\n",
    "ddtheta2_dtdt = sym.diff(dtheta2_dt, t)\n",
    "\n",
    "# the equations of motion in Cartesian coordinates\n",
    "x1 = sym.sin(theta1)\n",
    "y1 = -sym.cos(theta1)\n",
    "x2 = x1 + sym.sin(theta2)\n",
    "y2 = y1 - sym.cos(theta2)"
   ]
  },
  {
   "attachments": {},
   "cell_type": "markdown",
   "metadata": {},
   "source": [
    "Lagrangian\n",
    "\n",
    "$$ \\mathcal{L} = T - U $$"
   ]
  },
  {
   "cell_type": "code",
   "execution_count": 35,
   "metadata": {},
   "outputs": [],
   "source": [
    "# kinetic energy\n",
    "T = sym.Rational(1,2) * (sym.diff(x1, t)**2 + sym.diff(y1, t)**2 + sym.diff(x2, t)**2 + sym.diff(y2, t)**2)\n",
    "# potential energy\n",
    "U = g * (y1 + y2)\n",
    "# Lagrangian\n",
    "L = (T - U).simplify()"
   ]
  },
  {
   "attachments": {},
   "cell_type": "markdown",
   "metadata": {},
   "source": [
    "Euler-Lagrange Equations\n",
    "\n",
    "$$ \\frac{d}{dt} \\frac{\\partial \\mathcal{L}}{\\partial \\dot{q_i}} - \\frac{\\partial \\mathcal{L}}{\\partial q_i} = 0 $$"
   ]
  },
  {
   "cell_type": "code",
   "execution_count": 36,
   "metadata": {},
   "outputs": [],
   "source": [
    "del_L_t1 = sym.diff(L, theta1)\n",
    "del_L_t2 = sym.diff(L, theta2)\n",
    "d_del_L_dt1 = sym.diff(sym.diff(L, dtheta1_dt), t).simplify()\n",
    "d_del_L_dt2 = sym.diff(sym.diff(L, dtheta2_dt), t).simplify()\n",
    "\n",
    "L_1 = sym.Eq(del_L_t1, d_del_L_dt1)\n",
    "L_2 = sym.Eq(del_L_t2, d_del_L_dt2)"
   ]
  },
  {
   "attachments": {},
   "cell_type": "markdown",
   "metadata": {},
   "source": [
    "Solve in terms of angular acceleration"
   ]
  },
  {
   "cell_type": "code",
   "execution_count": 37,
   "metadata": {},
   "outputs": [],
   "source": [
    "sol = sym.solve([L_1, L_2], [ddtheta1_dtdt, ddtheta2_dtdt])\n",
    "ddtheta1_dtdt = sol[ddtheta1_dtdt]\n",
    "ddtheta2_dtdt = sol[ddtheta2_dtdt]"
   ]
  },
  {
   "attachments": {},
   "cell_type": "markdown",
   "metadata": {},
   "source": [
    "Put in form of a system of first order ODEs:\n",
    "$$ \\underline{\\dot{z}} = f(t,\\underline{z})$$\n",
    "\n",
    "$$ \\underline{z} = [\\theta_1, \\dot{\\theta}_1,\\theta_2, \\dot{\\theta}_2] \\implies \\underline{\\dot{z}} = [\\dot{\\theta}_1, \\ddot{\\theta}_1,\\dot{\\theta}_2, \\ddot{\\theta}_2]$$"
   ]
  },
  {
   "cell_type": "code",
   "execution_count": 38,
   "metadata": {},
   "outputs": [],
   "source": [
    "# Turn the symbolic equations into functions\n",
    "func_dtheta1_dt = sym.lambdify(dtheta1_dt, dtheta1_dt)\n",
    "func_ddtheta1_dtdt = sym.lambdify((theta1, theta2, dtheta1_dt, dtheta2_dt, g), ddtheta1_dtdt)\n",
    "func_dtheta2_dt = sym.lambdify(dtheta2_dt, dtheta2_dt)\n",
    "func_ddtheta2_dtdt = sym.lambdify((theta1, theta2, dtheta1_dt, dtheta2_dt, g), ddtheta2_dtdt)\n",
    "\n",
    "# Define the state vector\n",
    "def dbl_pendulum_state(t, th, g=9.81):\n",
    "    th1, dth1, th2, dth2 = th\n",
    "    return np.array([dth1, func_ddtheta1_dtdt(th1, th2, dth1, dth2, g), dth2,  func_ddtheta2_dtdt(th1, th2, dth1, dth2, g)])"
   ]
  },
  {
   "cell_type": "code",
   "execution_count": 39,
   "metadata": {},
   "outputs": [],
   "source": [
    "# Solve the ODE: Initial condition vector is [theta1, dtheta1, theta2, dtheta2]\n",
    "double_pendulum = solve_ivp(dbl_pendulum_state, \n",
    "                            [0, 30], \n",
    "                            [np.pi+0.3,  2, np.pi+0.2, -1], \n",
    "                            t_eval=np.arange(0, 30, 0.01))\n",
    "\n",
    "# Get the x and y positions of the pendulums\n",
    "th1 = double_pendulum.y[0]\n",
    "dth1 = double_pendulum.y[1]\n",
    "th2 = double_pendulum.y[2]\n",
    "dth2 = double_pendulum.y[3]\n",
    "x1 = np.sin(th1)\n",
    "y1 = -np.cos(th1)\n",
    "x2 = x1 + np.sin(th2)\n",
    "y2 = y1 - np.cos(th2)"
   ]
  },
  {
   "cell_type": "code",
   "execution_count": 40,
   "metadata": {},
   "outputs": [
    {
     "data": {
      "image/png": "[encoded data removed]",
      "text/plain": [
       "<Figure size 720x720 with 1 Axes>"
      ]
     },
     "metadata": {
      "needs_background": "light"
     },
     "output_type": "display_data"
    }
   ],
   "source": [
    "fig, axes = plt.subplots(nrows=1, ncols=1, figsize=(10, 10))\n",
    "axes.set_ylim(-4,4)\n",
    "axes.set_xlim(-4,4)\n",
    "\n",
    "line2, = axes.plot([], [], lw = 2, color = 'blue', marker = 'o', markersize = 10)\n",
    "line1, = axes.plot([], [], lw = 2, color = 'red', marker = 'o', markersize = 10)\n",
    "line0, = axes.plot([0], [0], lw = 2, color = 'black', marker = 'o', markersize = 10)\n",
    "\n",
    "axes.legend([line0, line1, line2], ['Pivot','Inner Bob', 'Outer Bob'])\n",
    "axes.set_axis_off()\n",
    "def init():\n",
    "    line1.set_data([], [])\n",
    "    line2.set_data([], [])\n",
    "    return line1, line2,\n",
    "\n",
    "\n",
    "# animation function\n",
    "def animate(i):\n",
    "    # x, y values to be plotted\n",
    "    line1.set_data([0,x1[i]], [0,y1[i]])\n",
    "    line2.set_data([x1[i], x2[i]], [y1[i], y2[i]])\n",
    "        \n",
    "    return line1, line2,\n",
    " \n",
    "# calling the animation function    \n",
    "anim = animation.FuncAnimation(fig, animate,\n",
    "                            init_func = init,\n",
    "                            frames = 1500,\n",
    "                            interval = 20,\n",
    "                            blit = True)\n",
    "anim.save('dblpend.mp4', writer = 'ffmpeg', fps = 30)"
   ]
  },
  {
   "cell_type": "code",
   "execution_count": null,
   "metadata": {},
   "outputs": [],
   "source": []
  },
  {
   "cell_type": "code",
   "execution_count": null,
   "metadata": {},
   "outputs": [],
   "source": []
  }
 ],
 "metadata": {
  "kernelspec": {
   "display_name": "base",
   "language": "python",
   "name": "python3"
  },
  "language_info": {
   "codemirror_mode": {
    "name": "ipython",
    "version": 3
   },
   "file_extension": ".py",
   "mimetype": "text/x-python",
   "name": "python",
   "nbconvert_exporter": "python",
   "pygments_lexer": "ipython3",
   "version": "3.8.8"
  },
  "orig_nbformat": 4
 },
 "nbformat": 4,
 "nbformat_minor": 2
}
